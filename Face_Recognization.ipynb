{
 "cells": [
  {
   "cell_type": "code",
   "execution_count": 2,
   "metadata": {},
   "outputs": [],
   "source": [
    "import cv2\n",
    "import os\n",
    "from sklearn.decomposition import PCA\n"
   ]
  },
  {
   "cell_type": "code",
   "execution_count": 4,
   "metadata": {},
   "outputs": [
    {
     "data": {
      "text/plain": [
       "(34, 3600)"
      ]
     },
     "execution_count": 4,
     "metadata": {},
     "output_type": "execute_result"
    }
   ],
   "source": [
    "X=[]\n",
    "y=[]\n",
    "img_list=os.listdir('monu')\n",
    "for img in img_list:\n",
    "    gray=cv2.imread(f'monu/{img}',cv2.IMREAD_GRAYSCALE)\n",
    "    gray=cv2.resize(gray,(60,60))\n",
    "    X.append(gray.flatten())\n",
    "    y.append('monu')\n",
    "img_list=os.listdir('udit')\n",
    "for img in img_list:\n",
    "    gray=cv2.imread(f'udit/{img}',cv2.IMREAD_GRAYSCALE)\n",
    "    gray=cv2.resize(gray,(60,60))\n",
    "    X.append(gray.flatten())\n",
    "    y.append('udit')\n",
    "\n",
    "import numpy as np\n",
    "X_train=np.array(X)\n",
    "y_train=np.array(y)    \n",
    "X_train.shape"
   ]
  },
  {
   "cell_type": "code",
   "execution_count": 5,
   "metadata": {},
   "outputs": [
    {
     "data": {
      "text/plain": [
       "(34, 1)"
      ]
     },
     "execution_count": 5,
     "metadata": {},
     "output_type": "execute_result"
    }
   ],
   "source": [
    "pca=PCA(.99)\n",
    "X_train_new=pca.fit_transform(X_train)\n",
    "X_train_new.shape"
   ]
  },
  {
   "cell_type": "code",
   "execution_count": 6,
   "metadata": {},
   "outputs": [
    {
     "data": {
      "text/plain": [
       "LogisticRegression(C=1.0, class_weight=None, dual=False, fit_intercept=True,\n",
       "                   intercept_scaling=1, l1_ratio=None, max_iter=100,\n",
       "                   multi_class='warn', n_jobs=None, penalty='l2',\n",
       "                   random_state=None, solver='lbfgs', tol=0.0001, verbose=0,\n",
       "                   warm_start=False)"
      ]
     },
     "execution_count": 6,
     "metadata": {},
     "output_type": "execute_result"
    }
   ],
   "source": [
    "from sklearn.linear_model import LogisticRegression\n",
    "log=LogisticRegression(solver='lbfgs')\n",
    "log.fit(X_train_new,y_train)"
   ]
  },
  {
   "cell_type": "code",
   "execution_count": null,
   "metadata": {},
   "outputs": [],
   "source": [
    "vdocap=cv2.VideoCapture(0) #external webcam\n",
    "clf=cv2.CascadeClassifier('C:/Users/monu/Anaconda3/Lib/site-packages/cv2/data/haarcascade_frontalface_default.xml')\n",
    "while(True):\n",
    "    flag,img_clr=vdocap.read()\n",
    "    if(flag==False):\n",
    "        break\n",
    "    img_gray=cv2.cvtColor(img_clr,cv2.COLOR_BGR2GRAY)\n",
    "    faces=clf.detectMultiScale(img_gray)\n",
    "    for x,y,w,h in faces:\n",
    "        cv2.rectangle(img_clr,(x,y),(x+w,y+h),(0,0,255),2)\n",
    "        myface=img_gray[y:y+h,x:x+w]\n",
    "        myface=cv2.resize(myface,(60,60))\n",
    "        myface=myface.reshape(1,3600)\n",
    "        X_test=pca.transform(myface)\n",
    "        pred=log.predict(X_test)\n",
    "        cv2.putText(img_clr,pred[0],(x,y-10),cv2.FONT_HERSHEY_PLAIN,2,(0,0,255),1)\n",
    "    cv2.imshow('',img_clr)\n",
    "    k=cv2.waitKey(1)\n",
    "    if(k==ord('q')):\n",
    "        break\n",
    "vdocap.release()        \n",
    "cv2.destroyAllWindows()"
   ]
  },
  {
   "cell_type": "code",
   "execution_count": null,
   "metadata": {},
   "outputs": [],
   "source": []
  }
 ],
 "metadata": {
  "kernelspec": {
   "display_name": "Python 3",
   "language": "python",
   "name": "python3"
  },
  "language_info": {
   "codemirror_mode": {
    "name": "ipython",
    "version": 3
   },
   "file_extension": ".py",
   "mimetype": "text/x-python",
   "name": "python",
   "nbconvert_exporter": "python",
   "pygments_lexer": "ipython3",
   "version": "3.7.4"
  }
 },
 "nbformat": 4,
 "nbformat_minor": 4
}
